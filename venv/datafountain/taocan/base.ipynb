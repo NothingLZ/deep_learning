{
 "cells": [
  {
   "cell_type": "code",
   "execution_count": 5,
   "metadata": {
    "collapsed": true
   },
   "outputs": [],
   "source": [
    "import tensorflow as tf\n",
    "import os\n",
    "import pandas as pd\n",
    "import numpy as np\n",
    "\n",
    "model_path = os.getcwd() + '/tf_model/'\n",
    "model_file = model_path + 'stock.model'\n",
    "\n",
    "path = '/Users/liyangyang/Downloads/datafountain/taocan/'"
   ]
  },
  {
   "cell_type": "code",
   "execution_count": 4,
   "metadata": {
    "collapsed": false
   },
   "outputs": [
    {
     "name": "stderr",
     "output_type": "stream",
     "text": [
      "/Library/Frameworks/Python.framework/Versions/3.6/lib/python3.6/site-packages/IPython/core/interactiveshell.py:2785: DtypeWarning: Columns (4,5,20,21) have mixed types. Specify dtype option on import or set low_memory=False.\n  interactivity=interactivity, compiler=compiler, result=result)\n"
     ]
    }
   ],
   "source": [
    "data = pd.read_csv(path + 'train_all.csv')\n",
    "data.loc[data['current_service'] == 90063345, 'current_service'] = 0\n",
    "data.loc[data['current_service'] == 89950166, 'current_service'] = 1\n",
    "data.loc[data['current_service'] == 89950167, 'current_service'] = 2\n",
    "data.loc[data['current_service'] == 99999828, 'current_service'] = 3\n",
    "data.loc[data['current_service'] == 90109916, 'current_service'] = 4\n",
    "data.loc[data['current_service'] == 89950168, 'current_service'] = 5\n",
    "data.loc[data['current_service'] == 99999827, 'current_service'] = 6\n",
    "data.loc[data['current_service'] == 99999826, 'current_service'] = 7\n",
    "data.loc[data['current_service'] == 90155946, 'current_service'] = 8\n",
    "data.loc[data['current_service'] == 99999830, 'current_service'] = 9\n",
    "data.loc[data['current_service'] == 99999825, 'current_service'] = 10\n",
    "\n",
    "data.loc[data['age'] == '\\\\N', 'age'] = 0\n",
    "data['age'] = data['age'].astype('int64')\n",
    "data.loc[data['age'] < 20, 'age'] = 0\n",
    "data.loc[(data['age'] >= 20) & (data['age'] < 30), 'age'] = 1\n",
    "data.loc[(data['age'] >= 30) & (data['age'] < 40), 'age'] = 2\n",
    "data.loc[(data['age'] >= 40) & (data['age'] < 50), 'age'] = 3\n",
    "data.loc[data['age'] >= 50, 'age'] = 4\n",
    "\n",
    "data.loc[data['gender'] == '\\\\N', 'gender'] = 0\n",
    "data['gender'] = data['gender'].astype('int64')\n",
    "\n",
    "data.loc[data['2_total_fee'] == '\\\\N', '2_total_fee'] = 0.0\n",
    "data.loc[data['3_total_fee'] == '\\\\N', '3_total_fee'] = 0.0\n",
    "data['2_total_fee'] = data['2_total_fee'].astype('float64')\n",
    "data['3_total_fee'] = data['3_total_fee'].astype('float64')\n",
    "data.loc[data['1_total_fee'] > 500.0, '1_total_fee'] = 500.0\n",
    "data.loc[data['2_total_fee'] > 500.0, '2_total_fee'] = 500.0\n",
    "data.loc[data['3_total_fee'] > 500.0, '3_total_fee'] = 500.0\n",
    "data.loc[data['4_total_fee'] > 500.0, '4_total_fee'] = 500.0\n",
    "\n",
    "data['total_fee'] = 0\n",
    "data.loc[data['1_total_fee'] < .0, 'total_fee'] = 1\n",
    "data.loc[data['2_total_fee'] < .0, 'total_fee'] = 1\n",
    "data.loc[data['3_total_fee'] < .0, 'total_fee'] = 1\n",
    "data.loc[data['4_total_fee'] < .0, 'total_fee'] = 1\n",
    "data.loc[data['1_total_fee'] > 499.0, 'total_fee'] = 2\n",
    "data.loc[data['2_total_fee'] > 499.0, 'total_fee'] = 2\n",
    "data.loc[data['3_total_fee'] > 499.0, 'total_fee'] = 2\n",
    "data.loc[data['4_total_fee'] > 499.0, 'total_fee'] = 2\n",
    "\n",
    "data['month_traffic_0'] = 0\n",
    "data.loc[(data['month_traffic'] > 0) & (data['month_traffic'] < 1024), 'month_traffic_0'] = 1\n",
    "data.loc[data['month_traffic'] == 1024.0, 'month_traffic_0'] = 2\n",
    "data.loc[data['month_traffic'] > 1024, 'month_traffic_0'] = 3\n",
    "\n",
    "data.loc[data['online_time'] > 140, 'online_time'] = 140\n",
    "\n",
    "data['pay_ave'] = data['pay_num'] / data['pay_times']\n",
    "data.loc[data['pay_times'] > 10, 'pay_times'] = 10\n",
    "\n",
    "data['my_traffic'] = data['last_month_traffic'].apply(lambda x: parse_traffic(x))\n",
    "\n",
    "data = data.drop(['local_trafffic_month'], axis=1)\n",
    "data = data.drop(['last_month_traffic'], axis=1)\n",
    "data = data.drop(['month_traffic'], axis=1)\n",
    "\n",
    "data.loc[data['local_caller_time'] == 0.0, 'local_caller_time'] = 0\n",
    "data.loc[(data['local_caller_time'] > 0) & (data['local_caller_time'] < 10), 'local_caller_time'] = 1\n",
    "data.loc[(data['local_caller_time'] >= 10) & (data['local_caller_time'] < 100), 'local_caller_time'] = 2\n",
    "data.loc[data['local_caller_time'] >= 100, 'local_caller_time'] = 3\n",
    "\n",
    "data.loc[data['service1_caller_time'] == 0.0, 'service1_caller_time'] = 0\n",
    "data.loc[(data['service1_caller_time'] > 0) & (data['service1_caller_time'] < 10), 'service1_caller_time'] = 1\n",
    "data.loc[(data['service1_caller_time'] >= 10) & (data['service1_caller_time'] < 100), 'service1_caller_time'] = 2\n",
    "data.loc[data['service1_caller_time'] >= 100, 'service1_caller_time'] = 3\n",
    "\n",
    "data.loc[data['service2_caller_time'] == 0.0, 'service2_caller_time'] = 0\n",
    "data.loc[(data['service2_caller_time'] > 0) & (data['service2_caller_time'] < 10), 'service2_caller_time'] = 1\n",
    "data.loc[(data['service2_caller_time'] >= 10) & (data['service2_caller_time'] < 100), 'service2_caller_time'] = 2\n",
    "data.loc[data['service2_caller_time'] >= 100, 'service2_caller_time'] = 3\n",
    "\n",
    "data['complaint_num'] = 0\n",
    "data.loc[data['former_complaint_num'] > 0, 'complaint_num'] = 1\n",
    "\n",
    "data['complaint_fee'] = 0\n",
    "data.loc[data['former_complaint_fee'] > 0, 'complaint_fee'] = 1"
   ]
  },
  {
   "cell_type": "code",
   "execution_count": 3,
   "metadata": {},
   "outputs": [],
   "source": [
    "def parse_traffic(x):\n",
    "    m = x / 1024.0\n",
    "    if m == 0.0:\n",
    "        return 0\n",
    "    elif m < 1.0:\n",
    "        return 0.5\n",
    "    elif m == 1.0:\n",
    "        return 1\n",
    "    elif m < 2.0:\n",
    "        return 1.5\n",
    "    elif m == 2.0:\n",
    "        return 2\n",
    "    elif m < 3.0:\n",
    "        return 2.5\n",
    "    elif m == 3.0:\n",
    "        return 3\n",
    "    elif m < 4.0:\n",
    "        return 3.5\n",
    "    elif m == 4.0:\n",
    "        return 4\n",
    "    else:\n",
    "        return 5"
   ]
  },
  {
   "cell_type": "code",
   "execution_count": 6,
   "metadata": {
    "collapsed": false
   },
   "outputs": [
    {
     "data": {
      "text/plain": [
       "Index(['service_type', 'is_mix_service', 'online_time', '1_total_fee',\n       '2_total_fee', '3_total_fee', '4_total_fee', 'many_over_bill',\n       'contract_type', 'contract_time', 'is_promise_low_consume',\n       'net_service', 'pay_times', 'pay_num', 'local_caller_time',\n       'service1_caller_time', 'service2_caller_time', 'gender', 'age',\n       'complaint_level', 'former_complaint_num', 'former_complaint_fee',\n       'current_service', 'user_id', 'total_fee', 'month_traffic_0', 'pay_ave',\n       'my_traffic', 'complaint_num', 'complaint_fee'],\n      dtype='object')"
      ]
     },
     "execution_count": 6,
     "metadata": {},
     "output_type": "execute_result"
    }
   ],
   "source": [
    "data.columns"
   ]
  },
  {
   "cell_type": "code",
   "execution_count": 45,
   "metadata": {},
   "outputs": [
    {
     "name": "stdout",
     "output_type": "stream",
     "text": [
      "76.00     19342\n56.00     15382\n36.00     12909\n106.00    10971\n136.00     6877\n500.00     6289\n166.00     4442\n196.00     3895\n86.00      3586\n36.10      2890\n50.00      2826\n80.00      2821\n76.10      2811\n296.00     2811\n96.00      2798\n46.00      2601\n69.00      2588\n56.10      2572\n0.00       2301\n100.00     2149\n126.00     1957\n19.00      1945\n140.00     1908\n66.00      1841\n95.00      1833\n106.10     1745\n120.00     1722\n116.00     1705\n81.00      1658\n36.20      1579\n          ...  \n378.91        1\n192.77        1\n401.79        1\n71.23         1\n349.72        1\n346.28        1\n178.33        1\n492.55        1\n5.18          1\n434.99        1\n5.07          1\n493.70        1\n317.87        1\n235.29        1\n250.88        1\n434.74        1\n492.05        1\n318.38        1\n178.58        1\n378.06        1\n100.01        1\n401.96        1\n69.82         1\n317.37        1\n318.63        1\n41.51         1\n434.98        1\n199.73        1\n257.68        1\n257.97        1\nName: 2_total_fee, Length: 34892, dtype: int64\n500.0\n"
     ]
    },
    {
     "name": "stdout",
     "output_type": "stream",
     "text": [
      "-0.1\n"
     ]
    }
   ],
   "source": [
    "print(data['2_total_fee'].value_counts(sort=True))\n",
    "print(max(data['2_total_fee']))\n",
    "print(min(data['2_total_fee']))"
   ]
  },
  {
   "cell_type": "code",
   "execution_count": 43,
   "metadata": {},
   "outputs": [],
   "source": [
    "data.loc[data['1_total_fee'] < .0, '1_total_fee'] = -0.1\n",
    "data.loc[data['2_total_fee'] < .0, '2_total_fee'] = -0.1\n",
    "data.loc[data['3_total_fee'] < .0, '3_total_fee'] = -0.1\n",
    "data.loc[data['4_total_fee'] < .0, '4_total_fee'] = -0.1"
   ]
  },
  {
   "cell_type": "code",
   "execution_count": 6,
   "metadata": {},
   "outputs": [
    {
     "name": "stdout",
     "output_type": "stream",
     "text": [
      "<class 'pandas.core.frame.DataFrame'>\nRangeIndex: 200000 entries, 0 to 199999\nData columns (total 26 columns):\nservice_type              200000 non-null int64\nis_mix_service            200000 non-null int64\nonline_time               200000 non-null int64\n1_total_fee               200000 non-null float64\n2_total_fee               200000 non-null object\n3_total_fee               200000 non-null object\n4_total_fee               200000 non-null float64\nmonth_traffic             200000 non-null float64\nmany_over_bill            200000 non-null int64\ncontract_type             200000 non-null int64\ncontract_time             200000 non-null int64\nis_promise_low_consume    200000 non-null int64\nnet_service               200000 non-null int64\npay_times                 200000 non-null int64\npay_num                   200000 non-null float64\nlast_month_traffic        200000 non-null float64\nlocal_trafffic_month      200000 non-null float64\nlocal_caller_time         200000 non-null float64\nservice1_caller_time      200000 non-null float64\nservice2_caller_time      200000 non-null float64\ngender                    200000 non-null int64\nage                       200000 non-null int64\ncomplaint_level           200000 non-null int64\nformer_complaint_num      200000 non-null int64\nformer_complaint_fee      200000 non-null int64\nuser_id                   200000 non-null object\ndtypes: float64(9), int64(14), object(3)\nmemory usage: 39.7+ MB\n"
     ]
    },
    {
     "name": "stderr",
     "output_type": "stream",
     "text": [
      "/Library/Frameworks/Python.framework/Versions/3.6/lib/python3.6/site-packages/IPython/core/interactiveshell.py:2785: DtypeWarning: Columns (4,5) have mixed types. Specify dtype option on import or set low_memory=False.\n  interactivity=interactivity, compiler=compiler, result=result)\n"
     ]
    }
   ],
   "source": [
    "import pandas as pd\n",
    "test = pd.read_csv(path + 'republish_test.csv')\n",
    "test.info()"
   ]
  },
  {
   "cell_type": "code",
   "execution_count": null,
   "metadata": {},
   "outputs": [],
   "source": []
  }
 ],
 "metadata": {
  "kernelspec": {
   "display_name": "Python 2",
   "language": "python",
   "name": "python2"
  },
  "language_info": {
   "codemirror_mode": {
    "name": "ipython",
    "version": 2
   },
   "file_extension": ".py",
   "mimetype": "text/x-python",
   "name": "python",
   "nbconvert_exporter": "python",
   "pygments_lexer": "ipython2",
   "version": "2.7.6"
  }
 },
 "nbformat": 4,
 "nbformat_minor": 0
}
